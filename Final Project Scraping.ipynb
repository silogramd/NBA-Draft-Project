{
 "cells": [
  {
   "cell_type": "code",
   "execution_count": 29,
   "metadata": {},
   "outputs": [],
   "source": [
    "import pandas as pd\n",
    "import urllib.request as urllib\n",
    "from bs4 import BeautifulSoup\n",
    "import time\n",
    "import random"
   ]
  },
  {
   "cell_type": "code",
   "execution_count": 2,
   "metadata": {},
   "outputs": [],
   "source": [
    "url = \"https://www.basketball-reference.com/draft/\"\n",
    "html = urllib.urlopen(url)"
   ]
  },
  {
   "cell_type": "code",
   "execution_count": 4,
   "metadata": {},
   "outputs": [],
   "source": [
    "soup = BeautifulSoup(html.read())\n",
    "html.close()"
   ]
  },
  {
   "cell_type": "code",
   "execution_count": 8,
   "metadata": {},
   "outputs": [],
   "source": [
    "table = soup.find('table', {'id':'first_overall'})"
   ]
  },
  {
   "cell_type": "code",
   "execution_count": 10,
   "metadata": {},
   "outputs": [],
   "source": [
    "rows = table.find_all('tr')"
   ]
  },
  {
   "cell_type": "code",
   "execution_count": 23,
   "metadata": {},
   "outputs": [],
   "source": [
    "for row in rows:\n",
    "    th = row.find('th')\n",
    "    link = th.find('a')\n",
    "    if (link != None):\n",
    "        links.append(\"https://www.basketball-reference.com\" + link.get('href'))"
   ]
  },
  {
   "cell_type": "code",
   "execution_count": 63,
   "metadata": {},
   "outputs": [
    {
     "ename": "SyntaxError",
     "evalue": "invalid syntax (<ipython-input-63-a99d2ecdf6c8>, line 4)",
     "output_type": "error",
     "traceback": [
      "\u001b[1;36m  File \u001b[1;32m\"<ipython-input-63-a99d2ecdf6c8>\"\u001b[1;36m, line \u001b[1;32m4\u001b[0m\n\u001b[1;33m    df = pd.DataFrame(columns = ['year', 'draft_pick', ,'team', \"name\", 'link', 'g_total', 'mp_total',\u001b[0m\n\u001b[1;37m                                                       ^\u001b[0m\n\u001b[1;31mSyntaxError\u001b[0m\u001b[1;31m:\u001b[0m invalid syntax\n"
     ]
    }
   ],
   "source": [
    "# The first 4 rows of this table need to be removed, as we are not using data from after 2015.\n",
    "# links.pop(0) x 4\n",
    "\n",
    "df = pd.DataFrame(columns = ['year', 'draft_pick', ,'team', \"name\", 'link', 'g_total', 'mp_total',\n",
    "                             'pts_total', 'trb_total', 'ast_total', 'fg', 'fg3', 'mp_pg', 'pts_pg', 'trb_pg',\n",
    "                            'ast_pg', 'ws', 'ws/48', 'bpm', 'vorp'])\n",
    "\n"
   ]
  },
  {
   "cell_type": "code",
   "execution_count": 64,
   "metadata": {},
   "outputs": [
    {
     "name": "stdout",
     "output_type": "stream",
     "text": [
      "2015\n",
      "2014\n",
      "2013\n",
      "2012\n",
      "2011\n",
      "2010\n",
      "2009\n",
      "2008\n",
      "2007\n",
      "2006\n",
      "2005\n",
      "2004\n",
      "2003\n",
      "2002\n",
      "2001\n",
      "2000\n",
      "1999\n",
      "1998\n",
      "1997\n",
      "1996\n",
      "1995\n",
      "1994\n",
      "1993\n",
      "1992\n",
      "1991\n",
      "1990\n",
      "1989\n",
      "1988\n",
      "1987\n",
      "1986\n",
      "1985\n",
      "1984\n",
      "1983\n",
      "1982\n",
      "1981\n",
      "1980\n"
     ]
    }
   ],
   "source": [
    "year = 2015\n",
    "for link in links:\n",
    "    html = urllib.urlopen(link)\n",
    "    soup = BeautifulSoup(html.read())\n",
    "    html.close()\n",
    "    \n",
    "    table = soup.find('table', {'id':'stats'})\n",
    "    rows = soup.find_all('tr')\n",
    "    print(year)\n",
    "    for row in rows:\n",
    "        if row != None:\n",
    "            if row.get('class') == None:\n",
    "                if row.find('td') != None:\n",
    "                    if row.find('td', {'data-stat':'skip'}) == None:\n",
    "                        \n",
    "                        pick = row.find('td', {'data-stat': 'pick_overall'}).find('a').text\n",
    "                        if (row.find('td', {'data-stat':'player'}).find('a') != None):\n",
    "                            name = row.find('td', {'data-stat':'player'}).find('a').text\n",
    "                            link = row.find('td', {'data-stat':'player'}).find('a').get('href')\n",
    "                        else:\n",
    "                            name = row.find('td', {'data-stat':'player'}).text\n",
    "                        g_total = row.find('td', {'data-stat':'g'}).text\n",
    "                        mp_total = row.find('td', {'data-stat':'mp'}).text\n",
    "                        pts_total = row.find('td', {'data-stat':'pts'}).text\n",
    "                        trb_total = row.find('td', {'data-stat':'trb'}).text\n",
    "                        ast_total = row.find('td', {'data-stat':'ast'}).text\n",
    "                        fg = row.find('td', {'data-stat':'fg_pct'}).text\n",
    "                        fg3 = row.find('td', {'data-stat':'fg3_pct'}).text\n",
    "                        mp_pg = row.find('td', {'data-stat':'mp_per_g'}).text\n",
    "                        pts_pg = row.find('td', {'data-stat':'pts_per_g'}).text\n",
    "                        trb_pg = row.find('td', {'data-stat':'trb_per_g'}).text\n",
    "                        ast_pg = row.find('td', {'data-stat':'ast_per_g'}).text\n",
    "                        ws = row.find('td', {'data-stat':'ws'}).text\n",
    "                        ws48 = row.find('td', {'data-stat':'ws_per_48'}).text\n",
    "                        bpm = row.find('td', {'data-stat':'bpm'}).text\n",
    "                        vorp = row.find('td', {'data-stat':'vorp'}).text\n",
    "                        team = row.find('td', {'data-stat':'team_id'}).text\n",
    "                        df = df.append({'name':name, 'draft_pick':pick, 'link':link, 'g_total':g_total, 'mp_total':mp_total,\n",
    "                                       'mp_total':mp_total,'pts_total':pts_total, 'trb_total':trb_total, 'ast_total':ast_total,\n",
    "                                       'fg':fg, 'fg3':fg3, 'mp_pg':mp_pg, 'pts_pg':pts_pg, 'trb_pg':trb_pg, 'ast_pg':ast_pg,\n",
    "                                       'ws':ws, 'ws/48':ws48, 'bpm':bpm, 'vorp':vorp, 'year':year}, ignore_index = True)\n",
    "\n",
    "    year = year - 1\n",
    "    if year == 1979:\n",
    "        break\n",
    "    time.sleep(random.randint(3,8))"
   ]
  },
  {
   "cell_type": "code",
   "execution_count": 65,
   "metadata": {},
   "outputs": [],
   "source": [
    "df.to_csv('draft_player_data')"
   ]
  },
  {
   "cell_type": "code",
   "execution_count": null,
   "metadata": {},
   "outputs": [],
   "source": []
  }
 ],
 "metadata": {
  "kernelspec": {
   "display_name": "Python 3",
   "language": "python",
   "name": "python3"
  },
  "language_info": {
   "codemirror_mode": {
    "name": "ipython",
    "version": 3
   },
   "file_extension": ".py",
   "mimetype": "text/x-python",
   "name": "python",
   "nbconvert_exporter": "python",
   "pygments_lexer": "ipython3",
   "version": "3.7.3"
  }
 },
 "nbformat": 4,
 "nbformat_minor": 2
}
