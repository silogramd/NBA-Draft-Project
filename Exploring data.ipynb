{
 "cells": [
  {
   "cell_type": "code",
   "execution_count": 1,
   "metadata": {},
   "outputs": [
    {
     "data": {
      "text/html": [
       "<div>\n",
       "<style scoped>\n",
       "    .dataframe tbody tr th:only-of-type {\n",
       "        vertical-align: middle;\n",
       "    }\n",
       "\n",
       "    .dataframe tbody tr th {\n",
       "        vertical-align: top;\n",
       "    }\n",
       "\n",
       "    .dataframe thead th {\n",
       "        text-align: right;\n",
       "    }\n",
       "</style>\n",
       "<table border=\"1\" class=\"dataframe\">\n",
       "  <thead>\n",
       "    <tr style=\"text-align: right;\">\n",
       "      <th></th>\n",
       "      <th>year</th>\n",
       "      <th>draft_pick</th>\n",
       "      <th>name</th>\n",
       "      <th>link</th>\n",
       "      <th>g_total</th>\n",
       "      <th>mp_total</th>\n",
       "      <th>pts_total</th>\n",
       "      <th>trb_total</th>\n",
       "      <th>ast_total</th>\n",
       "      <th>fg</th>\n",
       "      <th>fg3</th>\n",
       "      <th>mp_pg</th>\n",
       "      <th>pts_pg</th>\n",
       "      <th>trb_pg</th>\n",
       "      <th>ast_pg</th>\n",
       "      <th>ws</th>\n",
       "      <th>ws/48</th>\n",
       "      <th>bpm</th>\n",
       "      <th>vorp</th>\n",
       "    </tr>\n",
       "  </thead>\n",
       "  <tbody>\n",
       "    <tr>\n",
       "      <th>540</th>\n",
       "      <td>2015</td>\n",
       "      <td>1</td>\n",
       "      <td>Karl-Anthony Towns</td>\n",
       "      <td>/players/t/townska01.html</td>\n",
       "      <td>323.0</td>\n",
       "      <td>11120.0</td>\n",
       "      <td>7187.0</td>\n",
       "      <td>3831.0</td>\n",
       "      <td>839.0</td>\n",
       "      <td>0.537</td>\n",
       "      <td>0.392</td>\n",
       "      <td>34.4</td>\n",
       "      <td>22.3</td>\n",
       "      <td>11.9</td>\n",
       "      <td>2.6</td>\n",
       "      <td>45.4</td>\n",
       "      <td>0.196</td>\n",
       "      <td>5.0</td>\n",
       "      <td>19.6</td>\n",
       "    </tr>\n",
       "    <tr>\n",
       "      <th>541</th>\n",
       "      <td>2015</td>\n",
       "      <td>2</td>\n",
       "      <td>D'Angelo Russell</td>\n",
       "      <td>/players/r/russeda01.html</td>\n",
       "      <td>272.0</td>\n",
       "      <td>7752.0</td>\n",
       "      <td>4493.0</td>\n",
       "      <td>999.0</td>\n",
       "      <td>1381.0</td>\n",
       "      <td>0.419</td>\n",
       "      <td>0.353</td>\n",
       "      <td>28.5</td>\n",
       "      <td>16.5</td>\n",
       "      <td>3.7</td>\n",
       "      <td>5.1</td>\n",
       "      <td>6.6</td>\n",
       "      <td>0.041</td>\n",
       "      <td>0.4</td>\n",
       "      <td>4.6</td>\n",
       "    </tr>\n",
       "    <tr>\n",
       "      <th>542</th>\n",
       "      <td>2015</td>\n",
       "      <td>3</td>\n",
       "      <td>Jahlil Okafor</td>\n",
       "      <td>/players/o/okafoja01.html</td>\n",
       "      <td>190.0</td>\n",
       "      <td>4013.0</td>\n",
       "      <td>2178.0</td>\n",
       "      <td>976.0</td>\n",
       "      <td>175.0</td>\n",
       "      <td>0.530</td>\n",
       "      <td>0.200</td>\n",
       "      <td>21.1</td>\n",
       "      <td>11.5</td>\n",
       "      <td>5.1</td>\n",
       "      <td>0.9</td>\n",
       "      <td>5.3</td>\n",
       "      <td>0.063</td>\n",
       "      <td>-3.5</td>\n",
       "      <td>-1.5</td>\n",
       "    </tr>\n",
       "    <tr>\n",
       "      <th>543</th>\n",
       "      <td>2015</td>\n",
       "      <td>4</td>\n",
       "      <td>Kristaps Porziņģis</td>\n",
       "      <td>/players/p/porzikr01.html</td>\n",
       "      <td>186.0</td>\n",
       "      <td>5764.0</td>\n",
       "      <td>3312.0</td>\n",
       "      <td>1317.0</td>\n",
       "      <td>248.0</td>\n",
       "      <td>0.437</td>\n",
       "      <td>0.361</td>\n",
       "      <td>31.0</td>\n",
       "      <td>17.8</td>\n",
       "      <td>7.1</td>\n",
       "      <td>1.3</td>\n",
       "      <td>12.1</td>\n",
       "      <td>0.100</td>\n",
       "      <td>-0.1</td>\n",
       "      <td>2.8</td>\n",
       "    </tr>\n",
       "    <tr>\n",
       "      <th>544</th>\n",
       "      <td>2015</td>\n",
       "      <td>5</td>\n",
       "      <td>Mario Hezonja</td>\n",
       "      <td>/players/h/hezonma01.html</td>\n",
       "      <td>277.0</td>\n",
       "      <td>5236.0</td>\n",
       "      <td>2028.0</td>\n",
       "      <td>842.0</td>\n",
       "      <td>365.0</td>\n",
       "      <td>0.417</td>\n",
       "      <td>0.321</td>\n",
       "      <td>18.9</td>\n",
       "      <td>7.3</td>\n",
       "      <td>3.0</td>\n",
       "      <td>1.3</td>\n",
       "      <td>2.4</td>\n",
       "      <td>0.022</td>\n",
       "      <td>-3.0</td>\n",
       "      <td>-1.3</td>\n",
       "    </tr>\n",
       "  </tbody>\n",
       "</table>\n",
       "</div>"
      ],
      "text/plain": [
       "     year  draft_pick                name                       link  g_total  \\\n",
       "540  2015           1  Karl-Anthony Towns  /players/t/townska01.html    323.0   \n",
       "541  2015           2    D'Angelo Russell  /players/r/russeda01.html    272.0   \n",
       "542  2015           3       Jahlil Okafor  /players/o/okafoja01.html    190.0   \n",
       "543  2015           4  Kristaps Porziņģis  /players/p/porzikr01.html    186.0   \n",
       "544  2015           5       Mario Hezonja  /players/h/hezonma01.html    277.0   \n",
       "\n",
       "     mp_total  pts_total  trb_total  ast_total     fg    fg3  mp_pg  pts_pg  \\\n",
       "540   11120.0     7187.0     3831.0      839.0  0.537  0.392   34.4    22.3   \n",
       "541    7752.0     4493.0      999.0     1381.0  0.419  0.353   28.5    16.5   \n",
       "542    4013.0     2178.0      976.0      175.0  0.530  0.200   21.1    11.5   \n",
       "543    5764.0     3312.0     1317.0      248.0  0.437  0.361   31.0    17.8   \n",
       "544    5236.0     2028.0      842.0      365.0  0.417  0.321   18.9     7.3   \n",
       "\n",
       "     trb_pg  ast_pg    ws  ws/48  bpm  vorp  \n",
       "540    11.9     2.6  45.4  0.196  5.0  19.6  \n",
       "541     3.7     5.1   6.6  0.041  0.4   4.6  \n",
       "542     5.1     0.9   5.3  0.063 -3.5  -1.5  \n",
       "543     7.1     1.3  12.1  0.100 -0.1   2.8  \n",
       "544     3.0     1.3   2.4  0.022 -3.0  -1.3  "
      ]
     },
     "execution_count": 1,
     "metadata": {},
     "output_type": "execute_result"
    }
   ],
   "source": [
    "import pandas as pd\n",
    "url = 'https://raw.githubusercontent.com/silogramd/NBA-Draft-Project/master/draft_player_data'\n",
    "data = pd.read_csv(url,index_col=0,parse_dates=[0])\n",
    "\n",
    "data.dropna(inplace=True)\n",
    "data = data[data['year'] > 1988]\n",
    "data.head()"
   ]
  },
  {
   "cell_type": "code",
   "execution_count": 2,
   "metadata": {},
   "outputs": [],
   "source": [
    "data_by_year = data.groupby(\"year\")"
   ]
  },
  {
   "cell_type": "code",
   "execution_count": 3,
   "metadata": {},
   "outputs": [
    {
     "data": {
      "text/plain": [
       "<pandas.core.groupby.generic.DataFrameGroupBy object at 0x10ce5a940>"
      ]
     },
     "execution_count": 3,
     "metadata": {},
     "output_type": "execute_result"
    }
   ],
   "source": [
    "data_by_year"
   ]
  },
  {
   "cell_type": "code",
   "execution_count": 4,
   "metadata": {},
   "outputs": [
    {
     "data": {
      "text/plain": [
       "<bound method GroupBy.min of <pandas.core.groupby.generic.DataFrameGroupBy object at 0x10ce5a940>>"
      ]
     },
     "execution_count": 4,
     "metadata": {},
     "output_type": "execute_result"
    }
   ],
   "source": [
    "data_by_year.min"
   ]
  },
  {
   "cell_type": "code",
   "execution_count": null,
   "metadata": {},
   "outputs": [],
   "source": []
  }
 ],
 "metadata": {
  "kernelspec": {
   "display_name": "Python 3",
   "language": "python",
   "name": "python3"
  },
  "language_info": {
   "codemirror_mode": {
    "name": "ipython",
    "version": 3
   },
   "file_extension": ".py",
   "mimetype": "text/x-python",
   "name": "python",
   "nbconvert_exporter": "python",
   "pygments_lexer": "ipython3",
   "version": "3.7.3"
  }
 },
 "nbformat": 4,
 "nbformat_minor": 2
}
